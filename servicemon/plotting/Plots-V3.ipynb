{
 "cells": [
  {
   "cell_type": "code",
   "execution_count": 10,
   "metadata": {},
   "outputs": [],
   "source": [
    "import pathlib\n",
    "from datetime import datetime\n",
    "\n",
    "from astropy.table import Table\n",
    "from astropy.table import Column\n",
    "from astropy.time import Time\n",
    "import astropy.coordinates as coord\n",
    "import astropy.units as u\n",
    "\n",
    "\n",
    "import numpy as np\n",
    "\n",
    "# Set up matplotlib\n",
    "import matplotlib.pyplot as plt\n",
    "import matplotlib.dates as mdates\n",
    "import matplotlib.cbook as cbook\n",
    "\n",
    "%matplotlib inline\n",
    "\n",
    "# See https://mpld3.github.io/quickstart.html !!\n",
    "\n",
    "# or https://docs.bokeh.org/en/latest/\n",
    "# https://docs.bokeh.org/en/latest/docs/user_guide/quickstart.html#userguide-quickstart\n",
    "\n",
    "\n",
    "from bokeh.plotting import figure, output_file, output_notebook, show, save\n",
    "from bokeh.models import Legend, ColumnDataSource, HoverTool\n",
    "from bokeh.layouts import row, column\n",
    "\n",
    "import pandas"
   ]
  },
  {
   "cell_type": "code",
   "execution_count": 2,
   "metadata": {},
   "outputs": [],
   "source": [
    "# output to static HTML file (with CDN resources)\n",
    "output_file(\"bokeh_plot2.html\", title=\"Test Bokeh Plot\", mode=\"cdn\")\n",
    "#output_notebook()\n"
   ]
  },
  {
   "cell_type": "code",
   "execution_count": 3,
   "metadata": {},
   "outputs": [],
   "source": [
    "data_dir = pathlib.Path('/Users/donald/Box Sync/navo_stats')\n",
    "#file = 'ps_cone_1000_2019-04-14.csv'\n",
    "file = 'ps_cone-2019-07-15-23:37.csv'\n",
    "path = data_dir / file\n",
    "\n",
    "# Read csv into Table\n",
    "old_data = Table.read(path, format='ascii.csv')\n",
    "data = old_data"
   ]
  },
  {
   "cell_type": "code",
   "execution_count": 4,
   "metadata": {},
   "outputs": [],
   "source": [
    "data_dir = pathlib.Path('/Users/donald/Box Sync/navo_stats')\n",
    "file = 'ps_cone-2019-11-12-13-58.csv'\n",
    "path = data_dir / file\n",
    "\n",
    "# Read csv into Table\n",
    "medium_data = Table.read(path, format='ascii.csv')\n",
    "data = medium_data"
   ]
  },
  {
   "cell_type": "code",
   "execution_count": 12,
   "metadata": {},
   "outputs": [],
   "source": [
    "def qt_vs_num_rows():\n",
    "    # create a new plot with a datetime axis type\n",
    "    p = figure(plot_width=500, plot_height=500)\n",
    "\n",
    "    data[\"num_rows\"] = data[\"num_rows\"].astype(float)  # Gets rid of the warning when implicitly converted for Pandas\n",
    "    df = data[\"int0_duration\", \"int1_duration\", \"num_rows\", \"base_name\", \"service_type\",\n",
    "              \"RA\", \"DEC\", \"SR\"].to_pandas().copy()\n",
    "    source = ColumnDataSource(df)\n",
    "\n",
    "    # add renderers\n",
    "    qt_rend = p.circle(x=\"int0_duration\", y=\"num_rows\", source=source, size=4, color='red', alpha=0.2)\n",
    "    dt_rend = p.circle(x=\"int1_duration\", y=\"num_rows\", source=source, size=4, color='green', alpha=0.2)\n",
    "\n",
    "    legend = Legend(items=[\n",
    "        (\"Query Time\",   [qt_rend]),\n",
    "        (\"Download Time\", [dt_rend])\n",
    "    ], location=(0, 40), click_policy='hide')\n",
    "    p.add_layout(legend, 'below')\n",
    "\n",
    "    hover = HoverTool(\n",
    "        tooltips=[\n",
    "            (\"RA\", \"@RA\"),\n",
    "            (\"Dec\", \"@DEC\"),\n",
    "            (\"Radius\", \"@SR\"),\n",
    "            (\"Query Time\", \"@int0_duration\"),\n",
    "            (\"Download Time\", \"@int1_duration\"),\n",
    "            (\"# of Rows\", \"@num_rows\"),\n",
    "            (\"Start Time\", \"@dt_start_time{%Y-%m-%d-%H:%M:%S}\")\n",
    "        ],\n",
    "        formatters={\n",
    "            'dt_start_time': 'datetime'\n",
    "        }\n",
    "    )\n",
    "    p.add_tools(hover)\n",
    "\n",
    "    # NEW: customize by setting attributes\n",
    "    p.title.text = \"Times versus # of Result Rows\"\n",
    "    #p.grid.grid_line_alpha = 0\n",
    "    p.xaxis.axis_label = 'Duration'\n",
    "    p.yaxis.axis_label = '# of Rows'\n",
    "    #p.ygrid.band_fill_color = \"olive\"\n",
    "    #p.ygrid.band_fill_alpha = 0.05\n",
    "\n",
    "\n",
    "    # show the results\n",
    "    # show(p)\n",
    "    # save(p)\n",
    "    \n",
    "    return p\n",
    "\n",
    "# Todo\n",
    "# - Put base name and service type in title\n",
    "# - Put start time rows and duration in tooltip\n",
    "# - Do similar thing for vs. radius plot\n",
    "# - Do time plot\n",
    "# - Put them all in a web page\n"
   ]
  },
  {
   "cell_type": "code",
   "execution_count": 13,
   "metadata": {},
   "outputs": [],
   "source": [
    "def qt_over_time():\n",
    "\n",
    "    # create a new plot with a datetime axis type\n",
    "    p = figure(plot_width=700, plot_height=500, x_axis_type=\"datetime\")\n",
    "\n",
    "    data[\"num_rows\"] = data[\"num_rows\"].astype(float)  # Gets rid of the warning when implicitly converted for Pandas\n",
    "    df = data[\"start_time\", \"int0_duration\", \"int1_duration\", \"num_rows\", \"base_name\", \"service_type\",\n",
    "              \"RA\", \"DEC\", \"SR\"].to_pandas().copy()\n",
    "    df[\"dt_start_time\"] = pandas.to_datetime(df[\"start_time\"], format='%Y-%m-%d-%H:%M:%S.%f')\n",
    "\n",
    "    source = ColumnDataSource(df)\n",
    "\n",
    "    # add renderers\n",
    "    qt_rend = p.circle(x=\"dt_start_time\", y=\"int0_duration\", source=source, size=4, color='red', alpha=0.2)\n",
    "\n",
    "    hover = HoverTool(\n",
    "        tooltips=[\n",
    "            (\"RA\", \"@RA\"),\n",
    "            (\"Dec\", \"@DEC\"),\n",
    "            (\"Radius\", \"@SR\"),\n",
    "            (\"Query Time\", \"@int0_duration\"),\n",
    "            (\"Download Time\", \"@int1_duration\"),\n",
    "            (\"# of Rows\", \"@num_rows\"),\n",
    "            (\"Start Time\", \"@dt_start_time{%Y-%m-%d-%H:%M:%S}\")\n",
    "        ],\n",
    "        formatters={\n",
    "            'dt_start_time': 'datetime'\n",
    "        }\n",
    "    )\n",
    "    p.add_tools(hover)\n",
    "\n",
    "    # NEW: customize by setting attributes\n",
    "    p.title.text = \"Query Time Over Time\"\n",
    "    p.xaxis.axis_label = 'Start Time'\n",
    "    p.yaxis.axis_label = 'Query Time (s)'\n",
    "\n",
    "\n",
    "    # show the results\n",
    "    # save(p)\n",
    "    \n",
    "    return p"
   ]
  },
  {
   "cell_type": "code",
   "execution_count": 17,
   "metadata": {},
   "outputs": [
    {
     "data": {
      "text/plain": [
       "'/Users/donald/dev/astropy/basic_plots/sandbox/bokeh_plot2.html'"
      ]
     },
     "execution_count": 17,
     "metadata": {},
     "output_type": "execute_result"
    }
   ],
   "source": [
    "qt_vs_num_rows_plot = qt_vs_num_rows()\n",
    "qt_over_time_plot = qt_over_time()\n",
    "\n",
    "save((qt_vs_num_rows_plot, qt_over_time_plot))"
   ]
  }
 ],
 "metadata": {
  "kernelspec": {
   "display_name": "Python 3",
   "language": "python",
   "name": "python3"
  },
  "language_info": {
   "codemirror_mode": {
    "name": "ipython",
    "version": 3
   },
   "file_extension": ".py",
   "mimetype": "text/x-python",
   "name": "python",
   "nbconvert_exporter": "python",
   "pygments_lexer": "ipython3",
   "version": "3.6.9"
  }
 },
 "nbformat": 4,
 "nbformat_minor": 4
}
